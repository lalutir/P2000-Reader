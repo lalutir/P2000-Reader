{
 "cells": [
  {
   "cell_type": "code",
   "execution_count": null,
   "id": "57d309f6",
   "metadata": {},
   "outputs": [],
   "source": [
    "import requests\n",
    "import os\n",
    "import time\n",
    "from bs4 import BeautifulSoup"
   ]
  },
  {
   "cell_type": "code",
   "execution_count": 28,
   "id": "7302d5a3",
   "metadata": {},
   "outputs": [],
   "source": [
    "def send_notification(alert, ntfy_topic):\n",
    "    \"\"\"Sends a notification using ntfy.\"\"\"\n",
    "    if not ntfy_topic:\n",
    "        print(\"NTFY_TOPIC environment variable not set. Skipping notification.\")\n",
    "        return\n",
    "        \n",
    "    try:\n",
    "        requests.post(\n",
    "            f\"https://ntfy.sh/{ntfy_topic}\",\n",
    "            data=alert['message'].encode('utf-8'),\n",
    "            headers={\n",
    "                \"Title\": f\"New P2000 Alert: {alert['service']}\",\n",
    "                \"Priority\": \"high\",\n",
    "                \"Tags\": \"warning\"\n",
    "            })\n",
    "        print(\"--> Notification sent!\")\n",
    "    except Exception as e:\n",
    "        print(f\"--> Failed to send notification: {e}\")"
   ]
  },
  {
   "cell_type": "code",
   "execution_count": null,
   "id": "4009fbc8",
   "metadata": {},
   "outputs": [],
   "source": [
    "def clear_screen():\n",
    "    \"\"\"Clears the console screen.\"\"\"    \n",
    "    if os.name == 'nt':\n",
    "        os.system('cls')\n",
    "    else:\n",
    "        os.system('clear')"
   ]
  },
  {
   "cell_type": "code",
   "execution_count": null,
   "id": "2061304c",
   "metadata": {},
   "outputs": [],
   "source": [
    "def get_region_from_env():\n",
    "    \"\"\"Gets region details from an environment variable.\"\"\"\n",
    "    # This is the full regions dictionary to look up the details\n",
    "    regions = {\n",
    "        \"rb=1\": \"KNRM\", \"ll=1\": \"Lifeliners\", \"groningen=1\": \"Groningen\",\n",
    "        \"friesland=1\": \"Friesland\", \"drenthe=1\": \"Drenthe\", \"ijsselland=1\": \"IJsselland\",\n",
    "        \"twente=1\": \"Twente\", \"nogland=1\": \"Noord- en Oost Gelderland\",\n",
    "        \"glandmidden=1\": \"Gelderland-Midden\", \"glandzuid=1\": \"Gelderland-Zuid\",\n",
    "        \"utrecht=1\": \"Utrecht\", \"nholn=1\": \"Noord-Holland Noord\",\n",
    "        \"zwland=1\": \"Zaanstreek-Waterland\", \"kennemerland=1\": \"Kennemerland\",\n",
    "        \"adamal=1\": \"Amsterdam-Amstelland\", \"gooienvechtstr=1\": \"Gooi en Vechtstreek\",\n",
    "        \"haagl=1\": \"Haaglanden\", \"holmid=1\": \"Hollands Midden\",\n",
    "        \"rdamrm=1\": \"Rotterdam-Rijnmond\", \"zhz=1\": \"Zuid-Holland Zuid\",\n",
    "        \"zeeland=1\": \"Zeeland\", \"mewbranant=1\": \"Midden- en West Brabant\",\n",
    "        \"brabantn=1\": \"Brabant Noord\", \"brabantzo=1\": \"Brabant Zuid-Oost\",\n",
    "        \"limburgn=1\": \"Limburg Noord\", \"limburgz=1\": \"Limburg Zuid\", \"flevol=1\": \"Flevoland\",\n",
    "        \"\": \"Alle Regio's\"\n",
    "    }\n",
    "    region_param = os.environ.get('P2000_REGION')\n",
    "    if region_param in regions:\n",
    "        return region_param, regions[region_param]\n",
    "    return None, None # Return None if env var is not set or invalid"
   ]
  },
  {
   "cell_type": "code",
   "execution_count": null,
   "id": "69cc12f6",
   "metadata": {},
   "outputs": [
    {
     "name": "stdout",
     "output_type": "stream",
     "text": [
      "--- No New Alert ---\n",
      "Time:    24-06-2025 16:31:57\n",
      "Service: Brandweer\n",
      "Region:  Haaglanden\n",
      "Message: P 2 BDH-03 Verontr. opp.water Overburgkade Voorburg 155630 159591 159020\n",
      "--------------------\n"
     ]
    },
    {
     "ename": "KeyboardInterrupt",
     "evalue": "Script stopped by user. Exiting.",
     "output_type": "error",
     "traceback": [
      "\u001b[31m---------------------------------------------------------------------------\u001b[39m",
      "\u001b[31mKeyboardInterrupt\u001b[39m                         Traceback (most recent call last)",
      "\u001b[36mCell\u001b[39m\u001b[36m \u001b[39m\u001b[32mIn[26]\u001b[39m\u001b[32m, line 35\u001b[39m, in \u001b[36mmain\u001b[39m\u001b[34m()\u001b[39m\n\u001b[32m     33\u001b[39m             \u001b[38;5;28mprint\u001b[39m(\u001b[33m\"\u001b[39m\u001b[33mNo alerts found for this region.\u001b[39m\u001b[33m\"\u001b[39m)\n\u001b[32m---> \u001b[39m\u001b[32m35\u001b[39m         \u001b[43mtime\u001b[49m\u001b[43m.\u001b[49m\u001b[43msleep\u001b[49m\u001b[43m(\u001b[49m\u001b[32;43m10\u001b[39;49m\u001b[43m)\u001b[49m\n\u001b[32m     36\u001b[39m \u001b[38;5;28;01mexcept\u001b[39;00m \u001b[38;5;167;01mKeyboardInterrupt\u001b[39;00m:\n",
      "\u001b[31mKeyboardInterrupt\u001b[39m: ",
      "\nDuring handling of the above exception, another exception occurred:\n",
      "\u001b[31mKeyboardInterrupt\u001b[39m                         Traceback (most recent call last)",
      "\u001b[36mCell\u001b[39m\u001b[36m \u001b[39m\u001b[32mIn[27]\u001b[39m\u001b[32m, line 2\u001b[39m\n\u001b[32m      1\u001b[39m \u001b[38;5;28;01mif\u001b[39;00m \u001b[34m__name__\u001b[39m == \u001b[33m'\u001b[39m\u001b[33m__main__\u001b[39m\u001b[33m'\u001b[39m:\n\u001b[32m----> \u001b[39m\u001b[32m2\u001b[39m     \u001b[43mmain\u001b[49m\u001b[43m(\u001b[49m\u001b[43m)\u001b[49m\n",
      "\u001b[36mCell\u001b[39m\u001b[36m \u001b[39m\u001b[32mIn[26]\u001b[39m\u001b[32m, line 37\u001b[39m, in \u001b[36mmain\u001b[39m\u001b[34m()\u001b[39m\n\u001b[32m     35\u001b[39m         time.sleep(\u001b[32m10\u001b[39m)\n\u001b[32m     36\u001b[39m \u001b[38;5;28;01mexcept\u001b[39;00m \u001b[38;5;167;01mKeyboardInterrupt\u001b[39;00m:\n\u001b[32m---> \u001b[39m\u001b[32m37\u001b[39m     \u001b[38;5;28;01mraise\u001b[39;00m \u001b[38;5;167;01mKeyboardInterrupt\u001b[39;00m(\u001b[33m\"\u001b[39m\u001b[33mScript stopped by user. Exiting.\u001b[39m\u001b[33m\"\u001b[39m)\n",
      "\u001b[31mKeyboardInterrupt\u001b[39m: Script stopped by user. Exiting."
     ]
    }
   ],
   "source": [
    "def scrape(url):\n",
    "    \"\"\"Scrapes and returns the single latest alert from the given URL.\"\"\"\n",
    "    try:\n",
    "        response = requests.get(url)\n",
    "        response.raise_for_status()\n",
    "        response.encoding = 'windows-1252'\n",
    "        soup = BeautifulSoup(response.text, 'html.parser')\n",
    "\n",
    "        all_alerts_raw = []\n",
    "        main_alert_rows = soup.find_all(lambda tag: tag.name == 'tr' and tag.find('td', class_='DT'))\n",
    "\n",
    "        for row in main_alert_rows:\n",
    "            dt_cell = row.find('td', class_='DT')\n",
    "            service_cell = row.find('td', class_=['Am', 'Br', 'Po'])\n",
    "            region_cell = row.find('td', class_='Regio')\n",
    "            message_cell = row.find('td', class_=['Md', 'Mdx'])\n",
    "\n",
    "            if dt_cell and service_cell and region_cell and message_cell:\n",
    "                all_alerts_raw.append({\n",
    "                    \"datetime\": dt_cell.text.strip(),\n",
    "                    \"service\": service_cell.text.strip(),\n",
    "                    \"region\": region_cell.text.strip(),\n",
    "                    \"message\": message_cell.text.strip(),\n",
    "                })\n",
    "\n",
    "        unique_alerts = []\n",
    "        seen_alerts = set()\n",
    "        for alert in all_alerts_raw:\n",
    "            identifier = (alert['datetime'], alert['message'])\n",
    "            if identifier not in seen_alerts:\n",
    "                unique_alerts.append(alert)\n",
    "                seen_alerts.add(identifier)\n",
    "\n",
    "        return unique_alerts[0] if unique_alerts else None\n",
    "\n",
    "    except requests.exceptions.RequestException as e:\n",
    "        print(f\"\\nAn error occurred while trying to fetch the website: {e}\")\n",
    "        return None"
   ]
  },
  {
   "cell_type": "code",
   "execution_count": null,
   "id": "9bedb180",
   "metadata": {},
   "outputs": [],
   "source": [
    "def main():\n",
    "    \"\"\"Main function to select a region and enter the automatic refresh loop.\"\"\"\n",
    "    clear_screen()\n",
    "    \n",
    "    region_param, region_name = get_region_from_env()\n",
    "\n",
    "    ntfy_topic = os.environ.get('NTFY_TOPIC')\n",
    "        \n",
    "    base_url = 'http://www.p2000-online.net/p2000.py'\n",
    "    url = f\"{base_url}?{region_param}\" if region_param else base_url\n",
    "    \n",
    "    print(f\"--- Starting P2000 Alerter for region: {region_name} ---\")\n",
    "    if ntfy_topic:\n",
    "        print(f\"--- Notifications will be sent to ntfy.sh/{ntfy_topic} ---\")\n",
    "    else:\n",
    "        print(\"--- Notifications are disabled (NTFY_TOPIC not set) ---\")\n",
    "\n",
    "    last_alert_identifier = None\n",
    "\n",
    "    while True:\n",
    "        latest_alert = scrape(url)\n",
    "\n",
    "        if latest_alert:\n",
    "            current_alert_identifier = (latest_alert['datetime'], latest_alert['message'])\n",
    "            \n",
    "            if current_alert_identifier != last_alert_identifier:\n",
    "                clear_screen()\n",
    "                print(f\"--- New Alert for {region_name} ---\")\n",
    "                last_alert_identifier = current_alert_identifier\n",
    "                \n",
    "                print(f\"Time:    {latest_alert['datetime']}\")\n",
    "                print(f\"Service: {latest_alert['service']}\")\n",
    "                print(f\"Region:  {latest_alert['region']}\")\n",
    "                print(f\"Message: {latest_alert['message']}\")\n",
    "                print(\"--------------------\")\n",
    "                \n",
    "                if \"ZOETMR\" in latest_alert['service'].upper():\n",
    "                        print(\"--> Service matches 'ZOETMR', attempting to send notification...\")\n",
    "                        send_notification(latest_alert, ntfy_topic)\n",
    "                else:\n",
    "                    print(\"--> Service does not match 'ZOETMR', skipping notification.\")\n",
    "        \n",
    "        time.sleep(10)"
   ]
  },
  {
   "cell_type": "code",
   "execution_count": null,
   "id": "cf35ba49",
   "metadata": {},
   "outputs": [],
   "source": [
    "if __name__ == \"__main__\":\n",
    "    main()"
   ]
  }
 ],
 "metadata": {
  "kernelspec": {
   "display_name": "p2000scraper",
   "language": "python",
   "name": "python3"
  },
  "language_info": {
   "codemirror_mode": {
    "name": "ipython",
    "version": 3
   },
   "file_extension": ".py",
   "mimetype": "text/x-python",
   "name": "python",
   "nbconvert_exporter": "python",
   "pygments_lexer": "ipython3",
   "version": "3.11.1"
  }
 },
 "nbformat": 4,
 "nbformat_minor": 5
}
