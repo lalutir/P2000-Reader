{
 "cells": [
  {
   "cell_type": "code",
   "execution_count": 5,
   "id": "57d309f6",
   "metadata": {},
   "outputs": [],
   "source": [
    "import requests\n",
    "from bs4 import BeautifulSoup"
   ]
  },
  {
   "cell_type": "code",
   "execution_count": 6,
   "id": "4009fbc8",
   "metadata": {},
   "outputs": [],
   "source": [
    "# The URL that provides the raw alert data for the iframe\n",
    "# This corresponds to the \"Alle Regio's\" view\n",
    "url = 'http://www.p2000-online.net/p2000.py'"
   ]
  },
  {
   "cell_type": "code",
   "execution_count": null,
   "id": "38fa9ba0",
   "metadata": {},
   "outputs": [],
   "source": [
    "print(f\"Scraping data from: {url}\")"
   ]
  },
  {
   "cell_type": "code",
   "execution_count": 22,
   "id": "2061304c",
   "metadata": {},
   "outputs": [
    {
     "name": "stdout",
     "output_type": "stream",
     "text": [
      "\n",
      "--- Latest Alert ---\n",
      "Time:    24-06-2025 16:06:19\n",
      "Service: Ambulance\n",
      "Region:  Gooi en Vechtstreek\n",
      "Message: A2 Almere 112945\n",
      "--------------------\n"
     ]
    }
   ],
   "source": [
    "try:\n",
    "    # Make a request to the website\n",
    "    response = requests.get(url)\n",
    "    response.raise_for_status()\n",
    "\n",
    "    # Explicitly set the correct character encoding\n",
    "    response.encoding = 'windows-1252'\n",
    "\n",
    "    # Use the corrected content for parsing\n",
    "    soup = BeautifulSoup(response.text, 'html.parser')\n",
    "\n",
    "    all_alerts_raw = []\n",
    "    \n",
    "    # Find all potential main alert rows\n",
    "    main_alert_rows = soup.find_all(lambda tag: tag.name == 'tr' and tag.find('td', class_='DT'))\n",
    "\n",
    "    for row in main_alert_rows:\n",
    "        # Extract data from the main alert row\n",
    "        dt_cell = row.find('td', class_='DT')\n",
    "        service_cell = row.find('td', class_=['Am', 'Br', 'Po'])\n",
    "        region_cell = row.find('td', class_='Regio')\n",
    "        message_cell = row.find('td', class_=['Md', 'Mdx'])\n",
    "\n",
    "        # Ensure all main cells are present before adding\n",
    "        if dt_cell and service_cell and region_cell and message_cell:\n",
    "            alert_data = {\n",
    "                \"datetime\": dt_cell.text.strip(),\n",
    "                \"service\": service_cell.text.strip(),\n",
    "                \"region\": region_cell.text.strip(),\n",
    "                \"message\": message_cell.text.strip(),\n",
    "            }\n",
    "            all_alerts_raw.append(alert_data)\n",
    "\n",
    "    # De-duplication Step\n",
    "    unique_alerts = []\n",
    "    seen_alerts = set()\n",
    "\n",
    "    for alert in all_alerts_raw:\n",
    "        # Create a unique identifier for each alert (timestamp + message)\n",
    "        identifier = (alert['datetime'], alert['message'])\n",
    "        \n",
    "        # If we haven't seen this alert before, add it to our unique list\n",
    "        if identifier not in seen_alerts:\n",
    "            unique_alerts.append(alert)\n",
    "            seen_alerts.add(identifier)\n",
    "\n",
    "    # --- MODIFIED: Print only the latest alert ---\n",
    "    if not unique_alerts:\n",
    "        print(\"\\nScraping finished, but no alerts were found.\")\n",
    "    else:\n",
    "        # The first alert in the list is the latest one\n",
    "        latest_alert = unique_alerts[0]\n",
    "        \n",
    "        print(\"\\n--- Latest Alert ---\")\n",
    "        print(f\"Time:    {latest_alert['datetime']}\")\n",
    "        print(f\"Service: {latest_alert['service']}\")\n",
    "        print(f\"Region:  {latest_alert['region']}\")\n",
    "        print(f\"Message: {latest_alert['message']}\")\n",
    "        print(\"--------------------\")\n",
    "\n",
    "except requests.exceptions.RequestException as e:\n",
    "    print(f\"An error occurred while trying to fetch the website: {e}\")\n"
   ]
  }
 ],
 "metadata": {
  "kernelspec": {
   "display_name": "p2000scraper",
   "language": "python",
   "name": "python3"
  },
  "language_info": {
   "codemirror_mode": {
    "name": "ipython",
    "version": 3
   },
   "file_extension": ".py",
   "mimetype": "text/x-python",
   "name": "python",
   "nbconvert_exporter": "python",
   "pygments_lexer": "ipython3",
   "version": "3.11.1"
  }
 },
 "nbformat": 4,
 "nbformat_minor": 5
}
